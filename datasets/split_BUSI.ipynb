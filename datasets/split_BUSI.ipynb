{
 "cells": [
  {
   "cell_type": "code",
   "execution_count": 1,
   "metadata": {},
   "outputs": [],
   "source": [
    "import os\n",
    "import shutil\n",
    "import numpy as np\n",
    "import cv2\n",
    "from sklearn.model_selection import train_test_split"
   ]
  },
  {
   "cell_type": "code",
   "execution_count": 8,
   "metadata": {},
   "outputs": [],
   "source": [
    "dataset_path = \"BUSI\"\n",
    "\n",
    "train_path = os.path.join(dataset_path, \"train\")\n",
    "test_path = os.path.join(dataset_path, \"test\")\n",
    "\n",
    "if not os.path.exists(train_path):\n",
    "    os.makedirs(train_path)\n",
    "if not os.path.exists(test_path):\n",
    "    os.makedirs(test_path)\n",
    "\n",
    "# make mask and image folders\n",
    "train_mask_path = os.path.join(train_path, \"mask\")\n",
    "train_image_path = os.path.join(train_path, \"image\")\n",
    "test_mask_path = os.path.join(test_path, \"mask\")\n",
    "test_image_path = os.path.join(test_path, \"image\")\n",
    "\n",
    "if not os.path.exists(train_mask_path):\n",
    "    os.makedirs(train_mask_path)\n",
    "if not os.path.exists(train_image_path):\n",
    "    os.makedirs(train_image_path)\n",
    "if not os.path.exists(test_mask_path):\n",
    "    os.makedirs(test_mask_path)\n",
    "if not os.path.exists(test_image_path):\n",
    "    os.makedirs(test_image_path)"
   ]
  },
  {
   "cell_type": "code",
   "execution_count": 9,
   "metadata": {},
   "outputs": [],
   "source": [
    "images = []\n",
    "masks = []\n",
    "labels = []\n",
    "\n",
    "for target in sorted(os.listdir(dataset_path)):\n",
    "    d = os.path.join(dataset_path, target)\n",
    "    if not os.path.isdir(d):\n",
    "        continue\n",
    "\n",
    "    for root, _, fnames in sorted(os.walk(d)):\n",
    "        for fname in sorted(fnames):\n",
    "            path = os.path.join(root, fname)\n",
    "\n",
    "            if not \"mask\" in path:\n",
    "                mask_path = path.replace('.png', '_mask.png')\n",
    "\n",
    "                add_masks = []\n",
    "                for i in range(1, 5):\n",
    "                    mask_path_add = mask_path.replace('mask', 'mask_' + str(i))\n",
    "                    if os.path.isfile(mask_path_add):\n",
    "                        add_masks.append(mask_path_add)\n",
    "\n",
    "\n",
    "                if os.path.isfile(mask_path):\n",
    "                    images.append(path)\n",
    "                    if len(add_masks) > 0:\n",
    "                        masks.append(add_masks + [mask_path])\n",
    "                    else:\n",
    "                        masks.append([mask_path])\n",
    "                    labels.append(target)"
   ]
  },
  {
   "cell_type": "code",
   "execution_count": 10,
   "metadata": {},
   "outputs": [
    {
     "name": "stdout",
     "output_type": "stream",
     "text": [
      "Total images:  780\n"
     ]
    }
   ],
   "source": [
    "print(\"Total images: \", len(images))\n",
    "\n",
    "indices = np.arange(len(images))\n",
    "\n",
    "# split images\n",
    "train_indices, test_indices = train_test_split(indices, test_size=0.2, random_state=42)"
   ]
  },
  {
   "cell_type": "code",
   "execution_count": 11,
   "metadata": {},
   "outputs": [],
   "source": [
    "def add_masks(mask_paths):\n",
    "    mask = cv2.imread(mask_paths[0], cv2.IMREAD_GRAYSCALE)\n",
    "    for i in range(1, len(mask_paths)):\n",
    "        mask_add = cv2.imread(mask_paths[i], cv2.IMREAD_GRAYSCALE)\n",
    "        mask = cv2.add(mask, mask_add)\n",
    "    return mask"
   ]
  },
  {
   "cell_type": "code",
   "execution_count": 12,
   "metadata": {},
   "outputs": [],
   "source": [
    "for i in train_indices:\n",
    "    shutil.copy(images[i], train_image_path)\n",
    "    # shutil.copy(masks[i], train_mask_path)\n",
    "\n",
    "    masks_added = add_masks(masks[i])\n",
    "    mask_name = masks[i][-1].split('/')[-1]\n",
    "    new_mask_name = mask_name.replace('_mask', '')\n",
    "    new_mask_path = os.path.join(train_mask_path, new_mask_name)\n",
    "    cv2.imwrite(new_mask_path, masks_added)\n",
    "\n",
    "for i in test_indices:\n",
    "    shutil.copy(images[i], test_image_path)\n",
    "    # shutil.copy(masks[i], test_mask_path)\n",
    "    \n",
    "    masks_added = add_masks(masks[i])\n",
    "    mask_name = masks[i][-1].split('/')[-1]\n",
    "    new_mask_name = mask_name.replace('_mask', '')\n",
    "    new_mask_path = os.path.join(test_mask_path, new_mask_name)\n",
    "    cv2.imwrite(new_mask_path, masks_added)"
   ]
  },
  {
   "cell_type": "code",
   "execution_count": 9,
   "metadata": {},
   "outputs": [
    {
     "name": "stdout",
     "output_type": "stream",
     "text": [
      "False\n"
     ]
    }
   ],
   "source": [
    "name = \"benign_(132).png\"\n",
    "\n",
    "print(\"mask\" in name)"
   ]
  }
 ],
 "metadata": {
  "kernelspec": {
   "display_name": "Python 3",
   "language": "python",
   "name": "python3"
  },
  "language_info": {
   "codemirror_mode": {
    "name": "ipython",
    "version": 3
   },
   "file_extension": ".py",
   "mimetype": "text/x-python",
   "name": "python",
   "nbconvert_exporter": "python",
   "pygments_lexer": "ipython3",
   "version": "3.8.17"
  },
  "orig_nbformat": 4
 },
 "nbformat": 4,
 "nbformat_minor": 2
}
