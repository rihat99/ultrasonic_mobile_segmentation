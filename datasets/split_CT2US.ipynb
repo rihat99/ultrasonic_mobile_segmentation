{
 "cells": [
  {
   "cell_type": "code",
   "execution_count": 5,
   "metadata": {},
   "outputs": [],
   "source": [
    "import os\n",
    "import shutil\n",
    "from sklearn.model_selection import train_test_split"
   ]
  },
  {
   "cell_type": "code",
   "execution_count": 9,
   "metadata": {},
   "outputs": [],
   "source": [
    "dataset_path = \"CT2US\"\n",
    "\n",
    "train_path = os.path.join(dataset_path, \"train\")\n",
    "test_path = os.path.join(dataset_path, \"test\")\n",
    "\n",
    "if not os.path.exists(train_path):\n",
    "    os.makedirs(train_path)\n",
    "if not os.path.exists(test_path):\n",
    "    os.makedirs(test_path)\n",
    "\n",
    "# make mask and image folders\n",
    "train_mask_path = os.path.join(train_path, \"mask\")\n",
    "train_image_path = os.path.join(train_path, \"image\")\n",
    "test_mask_path = os.path.join(test_path, \"mask\")\n",
    "test_image_path = os.path.join(test_path, \"image\")\n",
    "\n",
    "if not os.path.exists(train_mask_path):\n",
    "    os.makedirs(train_mask_path)\n",
    "if not os.path.exists(train_image_path):\n",
    "    os.makedirs(train_image_path)\n",
    "if not os.path.exists(test_mask_path):\n",
    "    os.makedirs(test_mask_path)\n",
    "if not os.path.exists(test_image_path):\n",
    "    os.makedirs(test_image_path)\n"
   ]
  },
  {
   "cell_type": "code",
   "execution_count": 11,
   "metadata": {},
   "outputs": [
    {
     "name": "stdout",
     "output_type": "stream",
     "text": [
      "images num:  4586\n"
     ]
    }
   ],
   "source": [
    "# get images list\n",
    "images = os.listdir(os.path.join(dataset_path, \"slice\", \"slice\"))\n",
    "print(\"images num: \", len(images))\n",
    "\n",
    "# split images\n",
    "train_images, test_images = train_test_split(images, test_size=0.2, random_state=42)"
   ]
  },
  {
   "cell_type": "code",
   "execution_count": null,
   "metadata": {},
   "outputs": [],
   "source": [
    "# copy images and masks to train and test folders\n",
    "\n",
    "for image in train_images:\n",
    "    shutil.copy(os.path.join(dataset_path, \"slice\", \"slice\", image), train_image_path)\n",
    "    shutil.copy(os.path.join(dataset_path, \"mask\", \"mask\", image), train_mask_path)\n",
    "\n",
    "for image in test_images:\n",
    "    shutil.copy(os.path.join(dataset_path, \"slice\", \"slice\", image), test_image_path)\n",
    "    shutil.copy(os.path.join(dataset_path, \"mask\", \"mask\", image), test_mask_path)"
   ]
  }
 ],
 "metadata": {
  "kernelspec": {
   "display_name": "Python 3",
   "language": "python",
   "name": "python3"
  },
  "language_info": {
   "codemirror_mode": {
    "name": "ipython",
    "version": 3
   },
   "file_extension": ".py",
   "mimetype": "text/x-python",
   "name": "python",
   "nbconvert_exporter": "python",
   "pygments_lexer": "ipython3",
   "version": "3.8.17"
  },
  "orig_nbformat": 4
 },
 "nbformat": 4,
 "nbformat_minor": 2
}
